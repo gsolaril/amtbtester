{
 "cells": [
  {
   "cell_type": "code",
   "execution_count": 5,
   "metadata": {},
   "outputs": [],
   "source": [
    "import os, sys, subprocess, uuid\n",
    "from datetime import datetime, timedelta\n",
    "from concurrent.futures import ThreadPoolExecutor\n",
    "sys.path.append(\"../\")\n",
    "from codebase.utils import *\n",
    "from pandas import Series, DataFrame"
   ]
  },
  {
   "cell_type": "code",
   "execution_count": 6,
   "metadata": {},
   "outputs": [],
   "source": [
    "INI_KEYWORDS = {\n",
    "    \"common\": { \"Profile\": (str, True), \"MarketWatch\": (str, True), \"Login\": (int, True),\n",
    "        \"Password\": (str, True), \"Server\": (str, True), \"AutoConfiguration\": (bool, False),\n",
    "        \"DataServer\": (str, False), \"EnableDDE\": (bool, False), \"EnableNews\": (bool, False), },\n",
    "    \"proxy\": { \"ProxyEnable\": (bool, False), \"ProxyServer\": (str, False),\n",
    "        \"ProxyType\": (str, False), \"ProxyLogin\": (str, False), \"ProxyPassword\": (str, False), },\n",
    "    \"ftp\": { \"FTPEnable\": (bool, False), \"FTPPassiveMode\": (bool, False),\n",
    "        \"FTPAccount\": (int, False), \"FTPServer\": (str, False), \"FTPLogin\": (str, False),\n",
    "        \"FTPPassword\": (str, False), \"FTPPath\": (str, False), \"FTPPeriod\": (int, False), },\n",
    "    \"ea\": { \"ExpertsEnable\": (bool, False), \"ExpertsExpImport\": (bool, False), \"ExpertsDllImport\": (bool, False),\n",
    "        \"ExpertsTrades\": (bool, False), \"Symbol\": (str, False), \"Period\": (str, False), \"Template\": (str, False),\n",
    "        \"Expert\": (str, False), \"Script\": (str, False), \"ExpertParameters\": (str, False), \"ScriptParameters\": (str, False), },\n",
    "    \"tester\": { \"TestExpert\": (str, False), \"TestExpertParameters\": (str, False), \"TestSymbol\": (str, False),\n",
    "        \"TestPeriod\": (str, False), \"TestModel\": (int, False), \"TestSpread\": (int, False), \"TestOptimization\": (bool, False),\n",
    "        \"TestDateEnable\": (bool, False), \"TestFromDate\": (str, False), \"TestToDate\": (str, False), \"TestReport\": (str, False),\n",
    "        \"TestReplaceReport\": (bool, False), \"TestShutdownTerminal\": (bool, False), },\n",
    "}\n",
    "A = DataFrame(INI_KEYWORDS).stack().apply(Series, index = [\"type\", \"needed\"])"
   ]
  },
  {
   "cell_type": "code",
   "execution_count": 9,
   "metadata": {},
   "outputs": [],
   "source": [
    "A = A.swaplevel().reset_index()"
   ]
  },
  {
   "cell_type": "code",
   "execution_count": 22,
   "metadata": {},
   "outputs": [],
   "source": [
    "A.set_index([\"section\", \"name\"]).to_csv(\"../auth/parameters.csv\")"
   ]
  },
  {
   "cell_type": "code",
   "execution_count": 23,
   "metadata": {},
   "outputs": [
    {
     "data": {
      "text/plain": [
       "type"
      ]
     },
     "execution_count": 23,
     "metadata": {},
     "output_type": "execute_result"
    }
   ],
   "source": [
    "type(type(True))"
   ]
  },
  {
   "cell_type": "code",
   "execution_count": 26,
   "metadata": {},
   "outputs": [
    {
     "data": {
      "text/plain": [
       "'1\\n2\\n3\\n4\\n5'"
      ]
     },
     "execution_count": 26,
     "metadata": {},
     "output_type": "execute_result"
    }
   ],
   "source": [
    "df = Series([1, 2, 3, 4, 5]).astype(str)\n",
    "str.join(\"\\n\", df)"
   ]
  },
  {
   "cell_type": "code",
   "execution_count": null,
   "metadata": {},
   "outputs": [],
   "source": [
    "import psycopg2\n",
    "from pandas import Series, DataFrame\n",
    "from pandas import read_sql, read_csv\n",
    "\n",
    "keywords = read_csv(\"../auth/keywords.csv\", index_col = \"key\")\n",
    "conn = psycopg2.connect(host = \"localhost\",\n",
    "    user = \"postgres\", password = \"050460\",\n",
    "    port = 5432, database = \"postgres\")\n",
    "keywords.to_sql(\"struct_ini_mt4\", conn, index = True, if_exists = \"append\")"
   ]
  },
  {
   "cell_type": "code",
   "execution_count": 34,
   "metadata": {},
   "outputs": [
    {
     "name": "stdout",
     "output_type": "stream",
     "text": [
      "INSERT INTO struct_ini_mt4 (key, section, type, include, defvalue) VALUES ('Profile', 'common', 'str', true, null)\n",
      "INSERT INTO struct_ini_mt4 (key, section, type, include, defvalue) VALUES ('MarketWatch', 'common', 'str', true, null)\n",
      "INSERT INTO struct_ini_mt4 (key, section, type, include, defvalue) VALUES ('Login', 'common', 'int', true, null)\n",
      "INSERT INTO struct_ini_mt4 (key, section, type, include, defvalue) VALUES ('Password', 'common', 'str', true, null)\n",
      "INSERT INTO struct_ini_mt4 (key, section, type, include, defvalue) VALUES ('Server', 'common', 'str', true, null)\n",
      "INSERT INTO struct_ini_mt4 (key, section, type, include, defvalue) VALUES ('AutoConfiguration', 'common', 'bool', false, 'false')\n",
      "INSERT INTO struct_ini_mt4 (key, section, type, include, defvalue) VALUES ('DataServer', 'common', 'str', false, null)\n",
      "INSERT INTO struct_ini_mt4 (key, section, type, include, defvalue) VALUES ('EnableDDE', 'common', 'bool', false, 'false')\n",
      "INSERT INTO struct_ini_mt4 (key, section, type, include, defvalue) VALUES ('EnableNews', 'common', 'bool', false, 'false')\n",
      "INSERT INTO struct_ini_mt4 (key, section, type, include, defvalue) VALUES ('ProxyEnable', 'proxy', 'bool', false, 'false')\n",
      "INSERT INTO struct_ini_mt4 (key, section, type, include, defvalue) VALUES ('ProxyServer', 'proxy', 'str', false, null)\n",
      "INSERT INTO struct_ini_mt4 (key, section, type, include, defvalue) VALUES ('ProxyType', 'proxy', 'str', false, null)\n",
      "INSERT INTO struct_ini_mt4 (key, section, type, include, defvalue) VALUES ('ProxyLogin', 'proxy', 'str', false, null)\n",
      "INSERT INTO struct_ini_mt4 (key, section, type, include, defvalue) VALUES ('ProxyPassword', 'proxy', 'str', false, null)\n",
      "INSERT INTO struct_ini_mt4 (key, section, type, include, defvalue) VALUES ('FTPEnable', 'ftp', 'bool', false, 'false')\n",
      "INSERT INTO struct_ini_mt4 (key, section, type, include, defvalue) VALUES ('FTPPassiveMode', 'ftp', 'bool', false, 'false')\n",
      "INSERT INTO struct_ini_mt4 (key, section, type, include, defvalue) VALUES ('FTPAccount', 'ftp', 'int', false, null)\n",
      "INSERT INTO struct_ini_mt4 (key, section, type, include, defvalue) VALUES ('FTPServer', 'ftp', 'str', false, null)\n",
      "INSERT INTO struct_ini_mt4 (key, section, type, include, defvalue) VALUES ('FTPLogin', 'ftp', 'str', false, null)\n",
      "INSERT INTO struct_ini_mt4 (key, section, type, include, defvalue) VALUES ('FTPPassword', 'ftp', 'str', false, null)\n",
      "INSERT INTO struct_ini_mt4 (key, section, type, include, defvalue) VALUES ('FTPPath', 'ftp', 'str', false, null)\n",
      "INSERT INTO struct_ini_mt4 (key, section, type, include, defvalue) VALUES ('FTPPeriod', 'ftp', 'int', false, null)\n",
      "INSERT INTO struct_ini_mt4 (key, section, type, include, defvalue) VALUES ('ExpertsEnable', 'ea', 'bool', false, 'true')\n",
      "INSERT INTO struct_ini_mt4 (key, section, type, include, defvalue) VALUES ('ExpertsExpImport', 'ea', 'bool', false, 'true')\n",
      "INSERT INTO struct_ini_mt4 (key, section, type, include, defvalue) VALUES ('ExpertsDllImport', 'ea', 'bool', false, 'true')\n",
      "INSERT INTO struct_ini_mt4 (key, section, type, include, defvalue) VALUES ('ExpertsTrades', 'ea', 'bool', false, 'true')\n",
      "INSERT INTO struct_ini_mt4 (key, section, type, include, defvalue) VALUES ('Symbol', 'ea', 'str', false, null)\n",
      "INSERT INTO struct_ini_mt4 (key, section, type, include, defvalue) VALUES ('Period', 'ea', 'str', false, null)\n",
      "INSERT INTO struct_ini_mt4 (key, section, type, include, defvalue) VALUES ('Template', 'ea', 'str', false, null)\n",
      "INSERT INTO struct_ini_mt4 (key, section, type, include, defvalue) VALUES ('Expert', 'ea', 'str', false, null)\n",
      "INSERT INTO struct_ini_mt4 (key, section, type, include, defvalue) VALUES ('Script', 'ea', 'str', false, null)\n",
      "INSERT INTO struct_ini_mt4 (key, section, type, include, defvalue) VALUES ('ExpertParameters', 'ea', 'str', false, null)\n",
      "INSERT INTO struct_ini_mt4 (key, section, type, include, defvalue) VALUES ('ScriptParameters', 'ea', 'str', false, null)\n",
      "INSERT INTO struct_ini_mt4 (key, section, type, include, defvalue) VALUES ('TestExpert', 'tester', 'str', true, null)\n",
      "INSERT INTO struct_ini_mt4 (key, section, type, include, defvalue) VALUES ('TestExpertParameters', 'tester', 'str', true, null)\n",
      "INSERT INTO struct_ini_mt4 (key, section, type, include, defvalue) VALUES ('TestSymbol', 'tester', 'str', true, null)\n",
      "INSERT INTO struct_ini_mt4 (key, section, type, include, defvalue) VALUES ('TestPeriod', 'tester', 'str', true, 'M1')\n",
      "INSERT INTO struct_ini_mt4 (key, section, type, include, defvalue) VALUES ('TestModel', 'tester', 'int', true, '0')\n",
      "INSERT INTO struct_ini_mt4 (key, section, type, include, defvalue) VALUES ('TestSpread', 'tester', 'int', true, 'Variable')\n",
      "INSERT INTO struct_ini_mt4 (key, section, type, include, defvalue) VALUES ('TestOptimization', 'tester', 'bool', true, 'false')\n",
      "INSERT INTO struct_ini_mt4 (key, section, type, include, defvalue) VALUES ('TestDateEnable', 'tester', 'bool', true, 'true')\n",
      "INSERT INTO struct_ini_mt4 (key, section, type, include, defvalue) VALUES ('TestFromDate', 'tester', 'str', true, '1970.01.01')\n",
      "INSERT INTO struct_ini_mt4 (key, section, type, include, defvalue) VALUES ('TestToDate', 'tester', 'str', true, null)\n",
      "INSERT INTO struct_ini_mt4 (key, section, type, include, defvalue) VALUES ('TestReport', 'tester', 'str', true, null)\n",
      "INSERT INTO struct_ini_mt4 (key, section, type, include, defvalue) VALUES ('TestReplaceReport', 'tester', 'bool', true, 'false')\n",
      "INSERT INTO struct_ini_mt4 (key, section, type, include, defvalue) VALUES ('TestShutdownTerminal', 'tester', 'bool', true, 'true')\n"
     ]
    }
   ],
   "source": [
    "with conn.cursor() as cursor:\n",
    "    for key, values in keywords.iterrows():\n",
    "        fields = \", \".join((keywords.index.name, *keywords.columns))\n",
    "        query = f\"INSERT INTO struct_ini_mt4 ({fields}) VALUES {key, *values}\"\n",
    "        query = query.replace(\"True\", \"true\").replace(\"False\", \"false\")\n",
    "        query = query.replace(\"None\", \"null\").replace(\"nan\", \"null\")\n",
    "        #query = query.replace(\"'\", \"\\\"\")\n",
    "        print(query)\n",
    "        conn.commit()\n",
    "        cursor.execute(query)"
   ]
  },
  {
   "cell_type": "code",
   "execution_count": 25,
   "metadata": {},
   "outputs": [
    {
     "name": "stdout",
     "output_type": "stream",
     "text": [
      "TestPeriod = ,\n",
      "TestModel = ,\n",
      "TestSpread = ,\n",
      "TestOptimization = ,\n",
      "TestDateEnable = ,\n",
      "TestFromDate = ,\n",
      "TestReplaceReport = ,\n",
      "TestShutdownTerminal = ,\n"
     ]
    }
   ],
   "source": [
    "from pandas import Series\n",
    "for a in ['TestPeriod', 'TestModel', 'TestSpread', 'TestOptimization',\n",
    "       'TestDateEnable', 'TestFromDate', 'TestReplaceReport',\n",
    "       'TestShutdownTerminal']:\n",
    "    print(a + \" = ,\")"
   ]
  },
  {
   "cell_type": "code",
   "execution_count": 35,
   "metadata": {},
   "outputs": [
    {
     "data": {
      "text/plain": [
       "float"
      ]
     },
     "execution_count": 35,
     "metadata": {},
     "output_type": "execute_result"
    }
   ],
   "source": [
    "x = 3.0\n",
    "x = type(x)\n",
    "x"
   ]
  },
  {
   "cell_type": "code",
   "execution_count": 37,
   "metadata": {},
   "outputs": [
    {
     "data": {
      "text/plain": [
       "'float'"
      ]
     },
     "execution_count": 37,
     "metadata": {},
     "output_type": "execute_result"
    }
   ],
   "source": [
    "x.__name__"
   ]
  },
  {
   "cell_type": "code",
   "execution_count": 3,
   "metadata": {},
   "outputs": [
    {
     "data": {
      "text/plain": [
       "'C:\\\\Users\\\\Oreo\\\\AppData\\\\Roaming\\\\MetaQuotes\\\\Terminal'"
      ]
     },
     "execution_count": 3,
     "metadata": {},
     "output_type": "execute_result"
    }
   ],
   "source": [
    "import os\n",
    "os.path.normpath(os.path.expanduser('~') + \"/AppData/Roaming/MetaQuotes/Terminal\")"
   ]
  },
  {
   "cell_type": "code",
   "execution_count": 3,
   "metadata": {},
   "outputs": [],
   "source": [
    "import os, sys, re as regex, numpy\n",
    "from pandas import Series, DataFrame\n",
    "from pandas import Timestamp, Timedelta, Index, DatetimeIndex, DateOffset\n",
    "from pandas import concat, read_html, read_csv, date_range"
   ]
  },
  {
   "cell_type": "code",
   "execution_count": 23,
   "metadata": {},
   "outputs": [
    {
     "data": {
      "text/plain": [
       "DatetimeIndex(['2022-10-07', '2022-11-07', '2022-12-07', '2023-01-07',\n",
       "               '2023-02-07', '2023-03-07', '2023-04-07', '2023-05-07',\n",
       "               '2023-06-07', '2023-07-07', '2023-08-07', '2023-09-07',\n",
       "               '2023-10-07', '2023-11-07'],\n",
       "              dtype='datetime64[ns]', freq='<DateOffset: months=1>')"
      ]
     },
     "execution_count": 23,
     "metadata": {},
     "output_type": "execute_result"
    }
   ],
   "source": [
    "since = Timestamp(\"2022-10-07 00:00:00\")\n",
    "until = Timestamp(\"2023-11-11 00:00:00\")\n",
    "step = DateOffset(months = 1)\n",
    "drange = date_range(since, until, freq = step)"
   ]
  },
  {
   "cell_type": "code",
   "execution_count": 12,
   "metadata": {},
   "outputs": [
    {
     "data": {
      "text/plain": [
       "<function DateOffset.rollback>"
      ]
     },
     "execution_count": 12,
     "metadata": {},
     "output_type": "execute_result"
    }
   ],
   "source": []
  }
 ],
 "metadata": {
  "kernelspec": {
   "display_name": "Python 3",
   "language": "python",
   "name": "python3"
  },
  "language_info": {
   "codemirror_mode": {
    "name": "ipython",
    "version": 3
   },
   "file_extension": ".py",
   "mimetype": "text/x-python",
   "name": "python",
   "nbconvert_exporter": "python",
   "pygments_lexer": "ipython3",
   "version": "3.11.1"
  },
  "orig_nbformat": 4
 },
 "nbformat": 4,
 "nbformat_minor": 2
}
