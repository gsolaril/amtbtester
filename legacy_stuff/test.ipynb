{
 "cells": [
  {
   "cell_type": "code",
   "execution_count": 2,
   "metadata": {},
   "outputs": [],
   "source": [
    "import pyautogui, pynput, pandas, numpy, datetime, matplotlib.pyplot, json\n",
    "from time import sleep"
   ]
  },
  {
   "cell_type": "code",
   "execution_count": 9,
   "metadata": {},
   "outputs": [],
   "source": [
    "class Class:\n",
    "\n",
    "    def __init__(self):\n",
    "\n",
    "        self.pressed = False\n",
    "\n",
    "    def listen(self, key):\n",
    "\n",
    "        if (key == pynput.keyboard.Key.ctrl_l): self.pressed = True\n",
    "\n",
    "    def checkpoint(self, string: list[str]):\n",
    "\n",
    "        print(string)\n",
    "        with pynput.keyboard.Listener(on_press = self.listen) as listener:\n",
    "            while not self.pressed: pass\n",
    "        listener.join()"
   ]
  },
  {
   "cell_type": "code",
   "execution_count": 13,
   "metadata": {},
   "outputs": [
    {
     "name": "stderr",
     "output_type": "stream",
     "text": [
      "C:\\Users\\Oreo\\AppData\\Local\\Temp/ipykernel_26260/417168211.py:38: FutureWarning: The default value of regex will change from True to False in a future version. In addition, single character regular expressions will *not* be treated as literal strings when regex=True.\n",
      "  backtests[\"report\"] = backtests[\"report\"].str.replace(a, b)\n"
     ]
    }
   ],
   "source": [
    "with open(\"generator.json\", \"r\") as file:\n",
    "    generator = json.load(file)\n",
    "\n",
    "symbols, meshes, params = generator.values()\n",
    "params = pandas.DataFrame(params).transpose()\n",
    "template = pandas.DataFrame(columns = params.index)\n",
    "backtests = template.copy()\n",
    "for mesh in meshes:\n",
    "    values = params.loc[mesh, \"values\"]\n",
    "    values = numpy.meshgrid(*values)\n",
    "    for n, dim in enumerate(values):\n",
    "        values[n] = dim.reshape(-1)\n",
    "    values = numpy.stack(values)\n",
    "    backtests_mesh = template.copy()\n",
    "    backtests_mesh[mesh] = values.T\n",
    "    fixed = list(set(params.index).difference(mesh))\n",
    "    backtests_mesh[fixed] = params.loc[fixed, \"def\"]\n",
    "    backtests = pandas.concat((backtests, backtests_mesh))\n",
    "\n",
    "for parameter in backtests.columns:\n",
    "    values = params.at[parameter, \"values\"]\n",
    "    backtests_mesh = template.copy()\n",
    "    backtests_mesh[parameter] = values\n",
    "    fixed = list(backtests.columns)\n",
    "    fixed.remove(parameter)\n",
    "    backtests_mesh[fixed] = params.loc[fixed, \"def\"]\n",
    "    backtests = pandas.concat((backtests, backtests_mesh))\n",
    "\n",
    "backtests = backtests.drop_duplicates()\n",
    "backtests = backtests.sort_values(list(backtests.columns))\n",
    "backtests = backtests.reset_index(drop = True)\n",
    "backtests.to_csv(\"configs.csv\", index = False)\n",
    "\n",
    "namer = \", \".join([\"%s = {0[%s]}\" % (column, column) for column in backtests.columns])\n",
    "backtests[\"report\"] = backtests.agg(namer.format, axis = \"columns\") + \".csv\"\n",
    "replace = {\":\": \".\", \"/\": \"|\", \"\\\\\": \"|\"}\n",
    "for a, b in replace.items():\n",
    "    backtests[\"report\"] = backtests[\"report\"].str.replace(a, b)\n",
    "\n",
    "Backtests = pandas.DataFrame()\n",
    "symbols = [\n",
    "    \"EURUSD\", \"GBPUSD\", \"USDCHF\", \"USDCAD\",\n",
    "    \"EURAUD\", \"GBPJPY\", \"EURCAD\", \"EURGBP\"\n",
    "]\n",
    "for symbol in symbols:\n",
    "    backtests[\"symbol\"] = symbol\n",
    "    backtests[\"EA\"] = \"Forex Fury v4\"\n",
    "    Backtests = pandas.concat((Backtests, backtests), axis = \"index\")\n",
    "\n",
    "Backtests[\"report\"] = \"EA = \" + Backtests[\"EA\"] + \", symbol = \" + Backtests[\"symbol\"] + \", \" + Backtests[\"report\"]\n",
    "Backtests = Backtests[[\"symbol\", \"EA\", \"SL\", \"TP\", \"maxSpread\", \"ts\", \"tf\", \"report\"]]\n",
    "for symbol in symbols:\n",
    "    Backtests.loc[Backtests[\"symbol\"] == symbol].to_csv(symbol + \".csv\", index = False)"
   ]
  },
  {
   "cell_type": "code",
   "execution_count": null,
   "metadata": {},
   "outputs": [],
   "source": []
  }
 ],
 "metadata": {
  "interpreter": {
   "hash": "0b4457db261fbfa85a925bb2228fb9bdea7a2f8ac3a304c1cd75844b971ec29d"
  },
  "kernelspec": {
   "display_name": "Python 3.9.5 64-bit (conda)",
   "name": "python3"
  },
  "language_info": {
   "codemirror_mode": {
    "name": "ipython",
    "version": 3
   },
   "file_extension": ".py",
   "mimetype": "text/x-python",
   "name": "python",
   "nbconvert_exporter": "python",
   "pygments_lexer": "ipython3",
   "version": "3.9.7"
  },
  "orig_nbformat": 4
 },
 "nbformat": 4,
 "nbformat_minor": 2
}
